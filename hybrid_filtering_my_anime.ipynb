{
 "cells": [
  {
   "cell_type": "markdown",
   "metadata": {},
   "source": [
    "Training Hybrid filtering My anime dataset"
   ]
  },
  {
   "cell_type": "code",
   "execution_count": 1,
   "metadata": {},
   "outputs": [],
   "source": [
    "import pandas as pd\n",
    "import numpy as np\n",
    "import torch\n",
    "from sklearn.preprocessing import StandardScaler, MinMaxScaler\n",
    "from hybrid_filtering_pytorch.hybrid_recommender_torch import Hybrid_recommendation_system\n",
    "\n",
    "seed_init = 10\n",
    "torch.manual_seed(seed_init)\n",
    "np.random.seed(seed_init)"
   ]
  },
  {
   "cell_type": "code",
   "execution_count": 2,
   "metadata": {},
   "outputs": [],
   "source": [
    "dataset = pd.read_csv(\"my_anime_data_cleaned/rating_matrix_v2.csv\").iloc[:, 1:] # we increment to leave the movieId\n",
    "\n",
    "user_columns = list(dataset.columns)\n",
    "\n",
    "dataset = dataset.to_numpy()\n",
    "num_movie, num_user = dataset.shape"
   ]
  },
  {
   "cell_type": "code",
   "execution_count": 3,
   "metadata": {},
   "outputs": [],
   "source": [
    "movie_feat = pd.read_csv(\"my_anime_data_cleaned/anime_data.csv\", sep=\",\")\n",
    "movie_feat = movie_feat.iloc[:, 2:].to_numpy()"
   ]
  },
  {
   "cell_type": "code",
   "execution_count": 4,
   "metadata": {},
   "outputs": [
    {
     "data": {
      "text/html": [
       "<style>#sk-container-id-1 {color: black;}#sk-container-id-1 pre{padding: 0;}#sk-container-id-1 div.sk-toggleable {background-color: white;}#sk-container-id-1 label.sk-toggleable__label {cursor: pointer;display: block;width: 100%;margin-bottom: 0;padding: 0.3em;box-sizing: border-box;text-align: center;}#sk-container-id-1 label.sk-toggleable__label-arrow:before {content: \"▸\";float: left;margin-right: 0.25em;color: #696969;}#sk-container-id-1 label.sk-toggleable__label-arrow:hover:before {color: black;}#sk-container-id-1 div.sk-estimator:hover label.sk-toggleable__label-arrow:before {color: black;}#sk-container-id-1 div.sk-toggleable__content {max-height: 0;max-width: 0;overflow: hidden;text-align: left;background-color: #f0f8ff;}#sk-container-id-1 div.sk-toggleable__content pre {margin: 0.2em;color: black;border-radius: 0.25em;background-color: #f0f8ff;}#sk-container-id-1 input.sk-toggleable__control:checked~div.sk-toggleable__content {max-height: 200px;max-width: 100%;overflow: auto;}#sk-container-id-1 input.sk-toggleable__control:checked~label.sk-toggleable__label-arrow:before {content: \"▾\";}#sk-container-id-1 div.sk-estimator input.sk-toggleable__control:checked~label.sk-toggleable__label {background-color: #d4ebff;}#sk-container-id-1 div.sk-label input.sk-toggleable__control:checked~label.sk-toggleable__label {background-color: #d4ebff;}#sk-container-id-1 input.sk-hidden--visually {border: 0;clip: rect(1px 1px 1px 1px);clip: rect(1px, 1px, 1px, 1px);height: 1px;margin: -1px;overflow: hidden;padding: 0;position: absolute;width: 1px;}#sk-container-id-1 div.sk-estimator {font-family: monospace;background-color: #f0f8ff;border: 1px dotted black;border-radius: 0.25em;box-sizing: border-box;margin-bottom: 0.5em;}#sk-container-id-1 div.sk-estimator:hover {background-color: #d4ebff;}#sk-container-id-1 div.sk-parallel-item::after {content: \"\";width: 100%;border-bottom: 1px solid gray;flex-grow: 1;}#sk-container-id-1 div.sk-label:hover label.sk-toggleable__label {background-color: #d4ebff;}#sk-container-id-1 div.sk-serial::before {content: \"\";position: absolute;border-left: 1px solid gray;box-sizing: border-box;top: 0;bottom: 0;left: 50%;z-index: 0;}#sk-container-id-1 div.sk-serial {display: flex;flex-direction: column;align-items: center;background-color: white;padding-right: 0.2em;padding-left: 0.2em;position: relative;}#sk-container-id-1 div.sk-item {position: relative;z-index: 1;}#sk-container-id-1 div.sk-parallel {display: flex;align-items: stretch;justify-content: center;background-color: white;position: relative;}#sk-container-id-1 div.sk-item::before, #sk-container-id-1 div.sk-parallel-item::before {content: \"\";position: absolute;border-left: 1px solid gray;box-sizing: border-box;top: 0;bottom: 0;left: 50%;z-index: -1;}#sk-container-id-1 div.sk-parallel-item {display: flex;flex-direction: column;z-index: 1;position: relative;background-color: white;}#sk-container-id-1 div.sk-parallel-item:first-child::after {align-self: flex-end;width: 50%;}#sk-container-id-1 div.sk-parallel-item:last-child::after {align-self: flex-start;width: 50%;}#sk-container-id-1 div.sk-parallel-item:only-child::after {width: 0;}#sk-container-id-1 div.sk-dashed-wrapped {border: 1px dashed gray;margin: 0 0.4em 0.5em 0.4em;box-sizing: border-box;padding-bottom: 0.4em;background-color: white;}#sk-container-id-1 div.sk-label label {font-family: monospace;font-weight: bold;display: inline-block;line-height: 1.2em;}#sk-container-id-1 div.sk-label-container {text-align: center;}#sk-container-id-1 div.sk-container {/* jupyter's `normalize.less` sets `[hidden] { display: none; }` but bootstrap.min.css set `[hidden] { display: none !important; }` so we also need the `!important` here to be able to override the default hidden behavior on the sphinx rendered scikit-learn.org. See: https://github.com/scikit-learn/scikit-learn/issues/21755 */display: inline-block !important;position: relative;}#sk-container-id-1 div.sk-text-repr-fallback {display: none;}</style><div id=\"sk-container-id-1\" class=\"sk-top-container\"><div class=\"sk-text-repr-fallback\"><pre>MinMaxScaler()</pre><b>In a Jupyter environment, please rerun this cell to show the HTML representation or trust the notebook. <br />On GitHub, the HTML representation is unable to render, please try loading this page with nbviewer.org.</b></div><div class=\"sk-container\" hidden><div class=\"sk-item\"><div class=\"sk-estimator sk-toggleable\"><input class=\"sk-toggleable__control sk-hidden--visually\" id=\"sk-estimator-id-1\" type=\"checkbox\" checked><label for=\"sk-estimator-id-1\" class=\"sk-toggleable__label sk-toggleable__label-arrow\">MinMaxScaler</label><div class=\"sk-toggleable__content\"><pre>MinMaxScaler()</pre></div></div></div></div></div>"
      ],
      "text/plain": [
       "MinMaxScaler()"
      ]
     },
     "execution_count": 4,
     "metadata": {},
     "output_type": "execute_result"
    }
   ],
   "source": [
    "# preparing the scalers\n",
    "xm_scaler = MinMaxScaler()\n",
    "labelScaler = MinMaxScaler()\n",
    "\n",
    "# anime input vectors\n",
    "xm_scaler.fit(movie_feat)\n",
    "movie_feat = xm_scaler.transform(movie_feat)\n",
    "\n",
    "# label input vectors\n",
    "labelScaler.fit(dataset.T.reshape(-1, 1)[dataset.T.reshape(-1, 1) >= 0].reshape(-1, 1))"
   ]
  },
  {
   "cell_type": "code",
   "execution_count": 5,
   "metadata": {},
   "outputs": [],
   "source": [
    "def retrieve_anime_index(anime_ids:str, index=False) -> list:\n",
    "    ids = anime_ids.split(\"|\")\n",
    "    ids = ids[:-1] # last one is empty string\n",
    "    ids = list(map(int, ids))\n",
    "\n",
    "    if isinstance(movie_feat, pd.DataFrame) :\n",
    "        indexes = movie_feat.loc[movie_feat[\"anime_id\"].isin(ids), \"anime_index\"]\n",
    "    else :\n",
    "        df = pd.read_csv(\"my_anime_data_cleaned/anime_data.csv\")\n",
    "        indexes = df.loc[df[\"anime_id\"].isin(ids), \"anime_index\"]\n",
    "\n",
    "    return list(indexes)\n",
    "\n",
    "\n",
    "def decaying_average(anime_indexes:list) -> np.ndarray :\n",
    "    decay_rate = 0.95\n",
    "    num_series = len(anime_indexes)\n",
    "\n",
    "    decay_factor = np.array([decay_rate**x for x in range(num_series)]).reshape(-1, 1)\n",
    "\n",
    "    series_features = movie_feat[anime_indexes]\n",
    "\n",
    "    series_features *= decay_factor\n",
    "\n",
    "    return np.mean(series_features, axis=0)    "
   ]
  },
  {
   "cell_type": "code",
   "execution_count": 6,
   "metadata": {},
   "outputs": [],
   "source": [
    "# user data preparation\n",
    "user_feat = pd.read_csv(\"my_anime_data_cleaned/user_features.csv\", sep=\",\")\n",
    "\n",
    "user_anime_indexes = [0 for _ in range(user_feat.shape[0])]\n",
    "for i in range(len(user_feat)) :\n",
    "    watched = user_feat.loc[i, \"watched\"]\n",
    "    user_anime_indexes[i] = retrieve_anime_index(watched)\n",
    "\n",
    "# user input vectors\n",
    "user_feat = np.zeros((num_user, movie_feat.shape[-1]))\n",
    "for i in range(len(user_anime_indexes)) :\n",
    "    user_feat[i] = decaying_average(user_anime_indexes[i])"
   ]
  },
  {
   "cell_type": "code",
   "execution_count": 7,
   "metadata": {},
   "outputs": [
    {
     "name": "stdout",
     "output_type": "stream",
     "text": [
      "Device set to : NVIDIA GeForce RTX 3070 Laptop GPU\n",
      "============================================================================================\n",
      "Device set to : NVIDIA GeForce RTX 3070 Laptop GPU\n",
      "============================================================================================\n",
      "Device set to : NVIDIA GeForce RTX 3070 Laptop GPU\n",
      "============================================================================================\n"
     ]
    }
   ],
   "source": [
    "# model initializtion\n",
    "u_dim = user_feat.shape[-1]\n",
    "m_dim = movie_feat.shape[-1]\n",
    "\n",
    "latent_dimension = 256\n",
    "lr = 0.00001\n",
    "\n",
    "model = Hybrid_recommendation_system(num_user, num_movie, u_dim, m_dim, lr=lr, l_d=latent_dimension, collab_filter_dim=256)"
   ]
  },
  {
   "cell_type": "code",
   "execution_count": null,
   "metadata": {},
   "outputs": [],
   "source": [
    "model.load_model(model_set=\"1\")"
   ]
  },
  {
   "cell_type": "code",
   "execution_count": 8,
   "metadata": {},
   "outputs": [],
   "source": [
    "# training loop params\n",
    "epochs = 5\n",
    "learning_rate = 0.0005\n",
    "\n",
    "model.learning_rate = learning_rate\n",
    "\n",
    "best_loss = 20000\n",
    "\n",
    "test = 0\n",
    "num_movie_train = num_movie - test\n",
    "\n",
    "user_batch_size = 572\n",
    "movie_batch_size = 300"
   ]
  },
  {
   "cell_type": "code",
   "execution_count": 9,
   "metadata": {},
   "outputs": [
    {
     "name": "stdout",
     "output_type": "stream",
     "text": [
      "epochs 0 loss : 0.07021405547857285loss : 0.042571377009153366\n",
      "NCF saved\n",
      "content model saved\n",
      "all model saved\n",
      "epochs 1 loss : 0.05542684718966484loss : 0.052180472761392596\n",
      "NCF saved\n",
      "content model saved\n",
      "all model saved\n",
      "epochs 2 loss : 0.056162115186452866oss : 0.073691263794898995\n",
      "epochs 3 loss : 0.04546348378062248loss : 0.044194262474775314\n",
      "NCF saved\n",
      "content model saved\n",
      "all model saved\n",
      "epochs 4 loss : 0.042294424027204514oss : 0.042847681790590286\n",
      "NCF saved\n",
      "content model saved\n",
      "all model saved\n"
     ]
    }
   ],
   "source": [
    "# training loop\n",
    "for epoch in range(epochs):\n",
    "    total_loss = 0\n",
    "    count = 0\n",
    "    for u_batch in range(user_batch_size, num_user, user_batch_size) :\n",
    "        for m_batch in range(movie_batch_size, num_movie_train, movie_batch_size) :\n",
    "            # indexes preparation\n",
    "            u_start = u_batch - user_batch_size\n",
    "            m_start = m_batch - movie_batch_size\n",
    "\n",
    "            rating = dataset.T[u_start:u_batch, m_start:m_batch].reshape(-1, 1)\n",
    "            mask = np.where(rating >= 0, 1, 0)\n",
    "            rating = labelScaler.transform(rating)\n",
    "\n",
    "            loss = model.train(\n",
    "                user_feat[u_start:u_batch], movie_feat[m_start:m_batch],\n",
    "                param_idx=(np.arange(u_start, u_batch), np.arange(m_start, m_batch)),\n",
    "                ratings=rating, rating_mask=mask,\n",
    "                epochs=1, expand=True\n",
    "            )\n",
    "            \n",
    "            total_loss += loss\n",
    "            count += 1\n",
    "\n",
    "            print(f\"epochs {epoch} u_batch {u_batch} m_batch {m_batch} loss : {loss}\", end=\"\\r\")\n",
    "\n",
    "        print(f\"epochs {epoch} loss : {total_loss / count}\")\n",
    "\n",
    "        if total_loss < best_loss :\n",
    "            model.save_model(model_set=\"1\")\n",
    "            best_loss = total_loss"
   ]
  },
  {
   "cell_type": "code",
   "execution_count": null,
   "metadata": {},
   "outputs": [],
   "source": [
    "model.save_model(model_set=\"1\")"
   ]
  },
  {
   "cell_type": "code",
   "execution_count": 24,
   "metadata": {},
   "outputs": [],
   "source": [
    "# testing the perf on random set\n",
    "test_size = 100\n",
    "\n",
    "user_test_index = np.random.randint(0, num_user - test_size)\n",
    "user_test_end = user_test_index + test_size\n",
    "\n",
    "anime_test_index = np.random.randint(0, num_movie - test_size)\n",
    "anime_test_end = anime_test_index + test_size\n",
    "\n",
    "label = dataset.T[user_test_index:user_test_index, anime_test_index:anime_test_end]\n",
    "label.reshape(-1, 1)\n",
    "\n",
    "label_mask = np.where(label >= 0 , 1, 0)\n",
    "boolean_mask = label_mask > 0\n",
    "\n",
    "test_u_feat = torch.tensor(user_feat[user_test_index:user_test_end], dtype=torch.float32, device=model.device)\n",
    "test_m_feat = torch.tensor(movie_feat[anime_test_index:anime_test_end], dtype=torch.float32, device=model.device)\n",
    "\n",
    "pred = model.prediction(\n",
    "    test_u_feat, test_m_feat,\n",
    "    indexes=(np.arange(user_test_index, user_test_end), np.arange(anime_test_index, anime_test_end)),\n",
    "    weights=(0.5, 0.5),\n",
    "    expand=True\n",
    ")\n",
    "\n",
    "pred = labelScaler.inverse_transform(pred.detach().cpu().numpy())\n",
    "\n",
    "print(\"the prediction is : \", pred[boolean_mask][:10])\n",
    "print(\"the label is : \", label[boolean_mask][:10])\n",
    "\n",
    "print(\"the mean squared error is : \", np.mean((label - pred)**2))\n",
    "\n",
    "print(\"the loss scaled is : \", np.mean((labelScaler.transform(label) - labelScaler.transform(pred))**2))"
   ]
  },
  {
   "cell_type": "code",
   "execution_count": 19,
   "metadata": {},
   "outputs": [],
   "source": [
    "label = dataset.T[user_test_index:user_test_end, anime_test_index:anime_test_end]"
   ]
  },
  {
   "cell_type": "code",
   "execution_count": 23,
   "metadata": {},
   "outputs": [
    {
     "data": {
      "text/plain": [
       "(0, 1)"
      ]
     },
     "execution_count": 23,
     "metadata": {},
     "output_type": "execute_result"
    }
   ],
   "source": [
    "label.shape"
   ]
  },
  {
   "cell_type": "code",
   "execution_count": null,
   "metadata": {},
   "outputs": [],
   "source": []
  }
 ],
 "metadata": {
  "kernelspec": {
   "display_name": "game",
   "language": "python",
   "name": "python3"
  },
  "language_info": {
   "codemirror_mode": {
    "name": "ipython",
    "version": 3
   },
   "file_extension": ".py",
   "mimetype": "text/x-python",
   "name": "python",
   "nbconvert_exporter": "python",
   "pygments_lexer": "ipython3",
   "version": "3.11.0"
  }
 },
 "nbformat": 4,
 "nbformat_minor": 2
}
