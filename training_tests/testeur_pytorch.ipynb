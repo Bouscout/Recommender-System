{
 "cells": [
  {
   "cell_type": "code",
   "execution_count": 1,
   "metadata": {},
   "outputs": [],
   "source": [
    "from hybrid_filtering_pytorch.ncf_torch import Neural_Collaborative_filtering\n",
    "from hybrid_filtering_pytorch.content_filtering_torch import Content_Based_filtering\n",
    "from hybrid_filtering_pytorch.hybrid_recommender_torch import Hybrid_recommendation_system\n",
    "import numpy as np\n",
    "import pandas as pd\n",
    "import pickle"
   ]
  },
  {
   "cell_type": "code",
   "execution_count": 2,
   "metadata": {},
   "outputs": [],
   "source": [
    "num_user = 300\n",
    "num_item = 300"
   ]
  },
  {
   "cell_type": "code",
   "execution_count": 3,
   "metadata": {},
   "outputs": [
    {
     "name": "stderr",
     "output_type": "stream",
     "text": [
      "c:\\Users\\Ghost\\ai_space_shooter\\game\\Lib\\site-packages\\sklearn\\base.py:348: InconsistentVersionWarning: Trying to unpickle estimator MinMaxScaler from version 1.3.0 when using version 1.3.2. This might lead to breaking code or invalid results. Use at your own risk. For more info please refer to:\n",
      "https://scikit-learn.org/stable/model_persistence.html#security-maintainability-limitations\n",
      "  warnings.warn(\n"
     ]
    }
   ],
   "source": [
    "with open(\"scalers/item_scaler.pickle\", \"rb\") as f :\n",
    "    xm_scaler = pickle.load(f)\n",
    "with open(\"scalers/label_scaler.pickle\", \"rb\") as f :\n",
    "    labelScaler = pickle.load(f)"
   ]
  },
  {
   "cell_type": "code",
   "execution_count": 4,
   "metadata": {},
   "outputs": [],
   "source": [
    "movie_feat = pd.read_csv(\"my_anime_data_cleaned/anime_data.csv\", sep=\",\").iloc[:]\n",
    "movie_feat = movie_feat.iloc[:, 2:].to_numpy()\n",
    "movie_feat = xm_scaler.transform(movie_feat)"
   ]
  },
  {
   "cell_type": "code",
   "execution_count": 8,
   "metadata": {},
   "outputs": [],
   "source": [
    "movie_feat = movie_feat[:num_item]"
   ]
  },
  {
   "cell_type": "code",
   "execution_count": 5,
   "metadata": {},
   "outputs": [],
   "source": [
    "user_feat = pd.read_csv(\"my_anime_data_cleaned/user_features.csv\", sep=\",\").iloc[:num_user]"
   ]
  },
  {
   "cell_type": "code",
   "execution_count": 6,
   "metadata": {},
   "outputs": [],
   "source": [
    "def retrieve_anime_index(anime_ids:str, index=False) -> list:\n",
    "    ids = anime_ids.split(\"|\")\n",
    "    ids = ids[:-1] # last one is empty string\n",
    "    ids = list(map(int, ids))\n",
    "\n",
    "    if isinstance(movie_feat, pd.DataFrame) :\n",
    "        indexes = movie_feat.loc[movie_feat[\"anime_id\"].isin(ids), \"anime_index\"]\n",
    "    else :\n",
    "        df = pd.read_csv(\"my_anime_data_cleaned/anime_data.csv\")\n",
    "        indexes = df.loc[df[\"anime_id\"].isin(ids), \"anime_index\"]\n",
    "\n",
    "    return list(indexes)\n",
    "\n",
    "\n",
    "def decaying_average(anime_indexes:list) -> np.ndarray :\n",
    "    decay_rate = 0.95\n",
    "    num_series = len(anime_indexes)\n",
    "\n",
    "    decay_factor = np.array([decay_rate**x for x in range(num_series)]).reshape(-1, 1)\n",
    "\n",
    "    series_features = movie_feat[anime_indexes]\n",
    "\n",
    "    series_features *= decay_factor\n",
    "\n",
    "    return np.mean(series_features, axis=0)"
   ]
  },
  {
   "cell_type": "code",
   "execution_count": 7,
   "metadata": {},
   "outputs": [],
   "source": [
    "user_anime_indexes = [0 for _ in range(user_feat.shape[0])]\n",
    "for i in range(len(user_feat)) :\n",
    "    watched = user_feat.loc[i, \"watched\"]\n",
    "    user_anime_indexes[i] = retrieve_anime_index(watched)\n",
    "\n",
    "# user input vectors\n",
    "user_feat = np.zeros((num_user, movie_feat.shape[-1]))\n",
    "for i in range(len(user_anime_indexes)) :\n",
    "    user_feat[i] = decaying_average(user_anime_indexes[i])"
   ]
  },
  {
   "cell_type": "code",
   "execution_count": 9,
   "metadata": {},
   "outputs": [],
   "source": [
    "ratings = pd.read_csv(\"my_anime_data_cleaned/rating_matrix_v2.csv\").iloc[:num_item, 1:num_user+1]\n",
    "ratings = ratings.to_numpy().T\n",
    "ratings = ratings.reshape(-1, 1)\n",
    "\n",
    "mask = np.where(ratings >= 0, 1, 0)\n",
    "ratings = labelScaler.transform(ratings) "
   ]
  },
  {
   "cell_type": "code",
   "execution_count": 16,
   "metadata": {},
   "outputs": [
    {
     "name": "stdout",
     "output_type": "stream",
     "text": [
      "Device set to : NVIDIA GeForce RTX 3070 Laptop GPU\n",
      "============================================================================================\n"
     ]
    }
   ],
   "source": [
    "dimension = user_feat.shape[-1]\n",
    "lr = 0.0005\n",
    "content_model = Content_Based_filtering(dimension, dimension, 64, lr)"
   ]
  },
  {
   "cell_type": "code",
   "execution_count": 19,
   "metadata": {},
   "outputs": [
    {
     "name": "stdout",
     "output_type": "stream",
     "text": [
      "for epoch  0  the loss :  tensor(4.0636e-05, device='cuda:0', grad_fn=<SumBackward0>)\n"
     ]
    },
    {
     "data": {
      "text/plain": [
       "tensor(4.2869, device='cuda:0', grad_fn=<SumBackward0>)"
      ]
     },
     "execution_count": 19,
     "metadata": {},
     "output_type": "execute_result"
    }
   ],
   "source": [
    "content_model.train(user_feat, movie_feat, ratings, mask, verbose=True, epochs=2)"
   ]
  },
  {
   "cell_type": "code",
   "execution_count": 18,
   "metadata": {},
   "outputs": [
    {
     "name": "stdout",
     "output_type": "stream",
     "text": [
      "content model loaded\n"
     ]
    }
   ],
   "source": [
    "content_model.load_model()"
   ]
  },
  {
   "cell_type": "code",
   "execution_count": 20,
   "metadata": {},
   "outputs": [
    {
     "name": "stdout",
     "output_type": "stream",
     "text": [
      "Device set to : NVIDIA GeForce RTX 3070 Laptop GPU\n",
      "============================================================================================\n"
     ]
    }
   ],
   "source": [
    "model = Neural_Collaborative_filtering(num_user, num_item, x_dim=64, learning_rate=0.005)"
   ]
  },
  {
   "cell_type": "code",
   "execution_count": 15,
   "metadata": {},
   "outputs": [
    {
     "data": {
      "text/plain": [
       "array([ 0.2929801 ,  0.40066066, -0.1954696 ,  0.67804885,  0.67204106,\n",
       "        0.30358598, -0.336078  , -1.3843056 , -1.0710447 ,  0.72316784],\n",
       "      dtype=float32)"
      ]
     },
     "execution_count": 15,
     "metadata": {},
     "output_type": "execute_result"
    }
   ],
   "source": [
    "model._user_params[0, :10]"
   ]
  },
  {
   "cell_type": "code",
   "execution_count": 22,
   "metadata": {},
   "outputs": [
    {
     "name": "stdout",
     "output_type": "stream",
     "text": [
      "for iter :  0  loss is :  tensor(1704.1024, device='cuda:0', grad_fn=<AddBackward0>)\n",
      "for iter :  20  loss is :  tensor(727.1298, device='cuda:0', grad_fn=<AddBackward0>)\n",
      "for iter :  40  loss is :  tensor(384.3828, device='cuda:0', grad_fn=<AddBackward0>)\n",
      "for iter :  60  loss is :  tensor(233.4179, device='cuda:0', grad_fn=<AddBackward0>)\n",
      "for iter :  80  loss is :  tensor(152.7849, device='cuda:0', grad_fn=<AddBackward0>)\n",
      "for iter :  100  loss is :  tensor(103.6625, device='cuda:0', grad_fn=<AddBackward0>)\n",
      "for iter :  120  loss is :  tensor(71.6121, device='cuda:0', grad_fn=<AddBackward0>)\n",
      "for iter :  140  loss is :  tensor(49.3498, device='cuda:0', grad_fn=<AddBackward0>)\n",
      "for iter :  160  loss is :  tensor(33.7711, device='cuda:0', grad_fn=<AddBackward0>)\n",
      "for iter :  180  loss is :  tensor(22.9011, device='cuda:0', grad_fn=<AddBackward0>)\n"
     ]
    },
    {
     "data": {
      "text/plain": [
       "tensor(15.7938, device='cuda:0', grad_fn=<AddBackward0>)"
      ]
     },
     "execution_count": 22,
     "metadata": {},
     "output_type": "execute_result"
    }
   ],
   "source": [
    "model.train(ratings, mask, verbose=True, epochs=200)"
   ]
  },
  {
   "cell_type": "code",
   "execution_count": 19,
   "metadata": {},
   "outputs": [
    {
     "data": {
      "text/plain": [
       "array([ 2.8286340e-21,  3.8038054e-21,  3.9902954e-21, -2.6991354e-20,\n",
       "        2.4610221e-21,  2.3697592e-21,  2.1929091e-21,  2.3917525e-15,\n",
       "       -1.1771360e-21, -2.4719141e-20], dtype=float32)"
      ]
     },
     "execution_count": 19,
     "metadata": {},
     "output_type": "execute_result"
    }
   ],
   "source": [
    "model._user_params[0, :10]"
   ]
  },
  {
   "cell_type": "code",
   "execution_count": 21,
   "metadata": {},
   "outputs": [
    {
     "name": "stdout",
     "output_type": "stream",
     "text": [
      "ncf loaded\n"
     ]
    }
   ],
   "source": [
    "model.load_model()"
   ]
  },
  {
   "cell_type": "code",
   "execution_count": 20,
   "metadata": {},
   "outputs": [
    {
     "name": "stdout",
     "output_type": "stream",
     "text": [
      "NCF saved\n"
     ]
    }
   ],
   "source": [
    "model.save_model()"
   ]
  },
  {
   "cell_type": "code",
   "execution_count": 13,
   "metadata": {},
   "outputs": [
    {
     "name": "stdout",
     "output_type": "stream",
     "text": [
      "Device set to : NVIDIA GeForce RTX 3070 Laptop GPU\n",
      "============================================================================================\n",
      "Device set to : NVIDIA GeForce RTX 3070 Laptop GPU\n",
      "============================================================================================\n",
      "Device set to : NVIDIA GeForce RTX 3070 Laptop GPU\n",
      "============================================================================================\n"
     ]
    }
   ],
   "source": [
    "dimension = user_feat.shape[-1]\n",
    "lr = 0.0005\n",
    "hybrid_model = Hybrid_recommendation_system(num_user, num_item, dimension, dimension, lr=lr, l_d=64)"
   ]
  },
  {
   "cell_type": "code",
   "execution_count": 16,
   "metadata": {},
   "outputs": [
    {
     "name": "stdout",
     "output_type": "stream",
     "text": [
      "for epoch  0  the loss :  tensor(1.9581e-08, device='cuda:0', grad_fn=<SumBackward0>)\n"
     ]
    },
    {
     "data": {
      "text/plain": [
       "tensor(0.4357, device='cuda:0', grad_fn=<SumBackward0>)"
      ]
     },
     "execution_count": 16,
     "metadata": {},
     "output_type": "execute_result"
    }
   ],
   "source": [
    "indexes = (np.arange(num_user), np.arange(num_item))\n",
    "hybrid_model.train(user_feat, movie_feat, indexes, ratings, mask, expand=True, epochs=2, verbose=True)"
   ]
  },
  {
   "cell_type": "code",
   "execution_count": 15,
   "metadata": {},
   "outputs": [
    {
     "name": "stdout",
     "output_type": "stream",
     "text": [
      "ncf loaded\n",
      "content model loaded\n",
      "all models loaded\n"
     ]
    }
   ],
   "source": [
    "hybrid_model.load_model()"
   ]
  },
  {
   "cell_type": "code",
   "execution_count": null,
   "metadata": {},
   "outputs": [],
   "source": []
  }
 ],
 "metadata": {
  "kernelspec": {
   "display_name": "game",
   "language": "python",
   "name": "python3"
  },
  "language_info": {
   "codemirror_mode": {
    "name": "ipython",
    "version": 3
   },
   "file_extension": ".py",
   "mimetype": "text/x-python",
   "name": "python",
   "nbconvert_exporter": "python",
   "pygments_lexer": "ipython3",
   "version": "3.11.0"
  }
 },
 "nbformat": 4,
 "nbformat_minor": 2
}
