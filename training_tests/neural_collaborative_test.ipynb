{
 "cells": [
  {
   "cell_type": "code",
   "execution_count": 1,
   "metadata": {},
   "outputs": [],
   "source": [
    "import pandas as pd\n",
    "import numpy as np\n",
    "import pickle\n",
    "from hybrid_filtering_pytorch.ncf_torch import Neural_Collaborative_filtering"
   ]
  },
  {
   "cell_type": "code",
   "execution_count": 2,
   "metadata": {},
   "outputs": [],
   "source": [
    "num_user = 573\n",
    "num_movie = 3000\n",
    "start = 3000\n",
    "end = start + 3000"
   ]
  },
  {
   "cell_type": "code",
   "execution_count": 3,
   "metadata": {},
   "outputs": [],
   "source": [
    "ratings = pd.read_csv(\"my_anime_data_cleaned/rating_matrix_v2.csv\").iloc[start:end, 1:num_user+1].to_numpy()\n",
    "\n",
    "with open(\"scalers/label_scaler.pickle\", \"rb\") as f :\n",
    "    labelScaler = pickle.load(f)"
   ]
  },
  {
   "cell_type": "code",
   "execution_count": 47,
   "metadata": {},
   "outputs": [
    {
     "name": "stdout",
     "output_type": "stream",
     "text": [
      "Device set to : NVIDIA GeForce RTX 3070 Laptop GPU\n",
      "============================================================================================\n"
     ]
    }
   ],
   "source": [
    "lr = 0.005\n",
    "model = Neural_Collaborative_filtering(num_user, num_movie, 256, learning_rate=lr)"
   ]
  },
  {
   "cell_type": "code",
   "execution_count": 48,
   "metadata": {},
   "outputs": [
    {
     "name": "stdout",
     "output_type": "stream",
     "text": [
      "ncf loaded\n"
     ]
    }
   ],
   "source": [
    "model.load_model(\"2\")"
   ]
  },
  {
   "cell_type": "code",
   "execution_count": null,
   "metadata": {},
   "outputs": [],
   "source": [
    "epochs = 100\n",
    "batch_size = 500\n",
    "model.l_r = 0.00001\n",
    "\n",
    "user_index = np.arange(num_user)\n",
    "for e in range(epochs):\n",
    "    total_loss = 0\n",
    "    counter = 0\n",
    "    for i in range(5) :\n",
    "        deb = (batch_size * i)\n",
    "        end = deb + batch_size\n",
    "\n",
    "\n",
    "        y = ratings[deb:end].T.reshape(-1, 1)\n",
    "        mask = np.where(y >= 0, 1, 0)\n",
    "\n",
    "        movie_index = np.arange(deb+3000, end+3000)\n",
    "\n",
    "        loss = model.train(y, mask, indexes=(user_index, movie_index), epochs=5)\n",
    "        print(f\"epoch {e+1}, limit {end}, loss {loss}\", end=\"\\r\")\n",
    "\n",
    "        counter += 1\n",
    "        total_loss += loss\n",
    "\n",
    "    print(f\"epochs : {e+1} total loss : {total_loss / counter}\")\n",
    "    "
   ]
  },
  {
   "cell_type": "code",
   "execution_count": 46,
   "metadata": {},
   "outputs": [
    {
     "name": "stdout",
     "output_type": "stream",
     "text": [
      "NCF saved\n"
     ]
    }
   ],
   "source": [
    "model.save_model(\"2\")"
   ]
  }
 ],
 "metadata": {
  "kernelspec": {
   "display_name": "game",
   "language": "python",
   "name": "python3"
  },
  "language_info": {
   "codemirror_mode": {
    "name": "ipython",
    "version": 3
   },
   "file_extension": ".py",
   "mimetype": "text/x-python",
   "name": "python",
   "nbconvert_exporter": "python",
   "pygments_lexer": "ipython3",
   "version": "3.11.0"
  }
 },
 "nbformat": 4,
 "nbformat_minor": 2
}
