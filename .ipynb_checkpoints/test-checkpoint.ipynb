{
 "cells": [
  {
   "cell_type": "code",
   "execution_count": 1,
   "id": "27bfc4f5",
   "metadata": {},
   "outputs": [],
   "source": [
    "from database_orm.database_orm import Access_db_ORM\n",
    "from my_anime_list_parser.fecth_anime import Anime_Fetcher\n",
    "from my_anime_list_parser.preprocess import parse_info_dict, parse_id_from_node\n",
    "import pandas as pd\n",
    "import numpy as np"
   ]
  },
  {
   "cell_type": "code",
   "execution_count": 2,
   "id": "ca185958",
   "metadata": {},
   "outputs": [
    {
     "name": "stdout",
     "output_type": "stream",
     "text": [
      "success\n"
     ]
    },
    {
     "name": "stderr",
     "output_type": "stream",
     "text": [
      "c:\\Users\\boudi\\recommender_system\\database_orm\\database_fetcher.py:28: UserWarning: pandas only supports SQLAlchemy connectable (engine/connection) or database string URI or sqlite3 DBAPI2 connection. Other DBAPI2 objects are not tested. Please consider using SQLAlchemy.\n",
      "  data = pd.read_sql(select, self.cursor)\n"
     ]
    }
   ],
   "source": [
    "db = Access_db_ORM(\"Series_ML\")\n",
    "series_df = db.objects.get()"
   ]
  },
  {
   "cell_type": "code",
   "execution_count": 3,
   "id": "03ac6816",
   "metadata": {},
   "outputs": [],
   "source": [
    "movie_infos = series_df.iloc[:, 8:]"
   ]
  },
  {
   "cell_type": "code",
   "execution_count": 4,
   "id": "8c37eba6",
   "metadata": {},
   "outputs": [],
   "source": [
    "movie_infos = movie_infos.map(float)"
   ]
  },
  {
   "cell_type": "code",
   "execution_count": 5,
   "id": "3315458f",
   "metadata": {},
   "outputs": [],
   "source": [
    "from sklearn.preprocessing import MinMaxScaler"
   ]
  },
  {
   "cell_type": "code",
   "execution_count": 6,
   "id": "6b531a3e",
   "metadata": {},
   "outputs": [],
   "source": [
    "movie_infos = movie_infos.to_numpy()[:-1]"
   ]
  },
  {
   "cell_type": "code",
   "execution_count": 7,
   "id": "41c2eb09",
   "metadata": {},
   "outputs": [
    {
     "data": {
      "text/html": [
       "<style>#sk-container-id-1 {color: black;}#sk-container-id-1 pre{padding: 0;}#sk-container-id-1 div.sk-toggleable {background-color: white;}#sk-container-id-1 label.sk-toggleable__label {cursor: pointer;display: block;width: 100%;margin-bottom: 0;padding: 0.3em;box-sizing: border-box;text-align: center;}#sk-container-id-1 label.sk-toggleable__label-arrow:before {content: \"▸\";float: left;margin-right: 0.25em;color: #696969;}#sk-container-id-1 label.sk-toggleable__label-arrow:hover:before {color: black;}#sk-container-id-1 div.sk-estimator:hover label.sk-toggleable__label-arrow:before {color: black;}#sk-container-id-1 div.sk-toggleable__content {max-height: 0;max-width: 0;overflow: hidden;text-align: left;background-color: #f0f8ff;}#sk-container-id-1 div.sk-toggleable__content pre {margin: 0.2em;color: black;border-radius: 0.25em;background-color: #f0f8ff;}#sk-container-id-1 input.sk-toggleable__control:checked~div.sk-toggleable__content {max-height: 200px;max-width: 100%;overflow: auto;}#sk-container-id-1 input.sk-toggleable__control:checked~label.sk-toggleable__label-arrow:before {content: \"▾\";}#sk-container-id-1 div.sk-estimator input.sk-toggleable__control:checked~label.sk-toggleable__label {background-color: #d4ebff;}#sk-container-id-1 div.sk-label input.sk-toggleable__control:checked~label.sk-toggleable__label {background-color: #d4ebff;}#sk-container-id-1 input.sk-hidden--visually {border: 0;clip: rect(1px 1px 1px 1px);clip: rect(1px, 1px, 1px, 1px);height: 1px;margin: -1px;overflow: hidden;padding: 0;position: absolute;width: 1px;}#sk-container-id-1 div.sk-estimator {font-family: monospace;background-color: #f0f8ff;border: 1px dotted black;border-radius: 0.25em;box-sizing: border-box;margin-bottom: 0.5em;}#sk-container-id-1 div.sk-estimator:hover {background-color: #d4ebff;}#sk-container-id-1 div.sk-parallel-item::after {content: \"\";width: 100%;border-bottom: 1px solid gray;flex-grow: 1;}#sk-container-id-1 div.sk-label:hover label.sk-toggleable__label {background-color: #d4ebff;}#sk-container-id-1 div.sk-serial::before {content: \"\";position: absolute;border-left: 1px solid gray;box-sizing: border-box;top: 0;bottom: 0;left: 50%;z-index: 0;}#sk-container-id-1 div.sk-serial {display: flex;flex-direction: column;align-items: center;background-color: white;padding-right: 0.2em;padding-left: 0.2em;position: relative;}#sk-container-id-1 div.sk-item {position: relative;z-index: 1;}#sk-container-id-1 div.sk-parallel {display: flex;align-items: stretch;justify-content: center;background-color: white;position: relative;}#sk-container-id-1 div.sk-item::before, #sk-container-id-1 div.sk-parallel-item::before {content: \"\";position: absolute;border-left: 1px solid gray;box-sizing: border-box;top: 0;bottom: 0;left: 50%;z-index: -1;}#sk-container-id-1 div.sk-parallel-item {display: flex;flex-direction: column;z-index: 1;position: relative;background-color: white;}#sk-container-id-1 div.sk-parallel-item:first-child::after {align-self: flex-end;width: 50%;}#sk-container-id-1 div.sk-parallel-item:last-child::after {align-self: flex-start;width: 50%;}#sk-container-id-1 div.sk-parallel-item:only-child::after {width: 0;}#sk-container-id-1 div.sk-dashed-wrapped {border: 1px dashed gray;margin: 0 0.4em 0.5em 0.4em;box-sizing: border-box;padding-bottom: 0.4em;background-color: white;}#sk-container-id-1 div.sk-label label {font-family: monospace;font-weight: bold;display: inline-block;line-height: 1.2em;}#sk-container-id-1 div.sk-label-container {text-align: center;}#sk-container-id-1 div.sk-container {/* jupyter's `normalize.less` sets `[hidden] { display: none; }` but bootstrap.min.css set `[hidden] { display: none !important; }` so we also need the `!important` here to be able to override the default hidden behavior on the sphinx rendered scikit-learn.org. See: https://github.com/scikit-learn/scikit-learn/issues/21755 */display: inline-block !important;position: relative;}#sk-container-id-1 div.sk-text-repr-fallback {display: none;}</style><div id=\"sk-container-id-1\" class=\"sk-top-container\"><div class=\"sk-text-repr-fallback\"><pre>MinMaxScaler()</pre><b>In a Jupyter environment, please rerun this cell to show the HTML representation or trust the notebook. <br />On GitHub, the HTML representation is unable to render, please try loading this page with nbviewer.org.</b></div><div class=\"sk-container\" hidden><div class=\"sk-item\"><div class=\"sk-estimator sk-toggleable\"><input class=\"sk-toggleable__control sk-hidden--visually\" id=\"sk-estimator-id-1\" type=\"checkbox\" checked><label for=\"sk-estimator-id-1\" class=\"sk-toggleable__label sk-toggleable__label-arrow\">MinMaxScaler</label><div class=\"sk-toggleable__content\"><pre>MinMaxScaler()</pre></div></div></div></div></div>"
      ],
      "text/plain": [
       "MinMaxScaler()"
      ]
     },
     "execution_count": 7,
     "metadata": {},
     "output_type": "execute_result"
    }
   ],
   "source": [
    "movieScaler = MinMaxScaler()\n",
    "movieScaler.fit(movie_infos)"
   ]
  },
  {
   "cell_type": "code",
   "execution_count": 8,
   "id": "ea481d7b",
   "metadata": {},
   "outputs": [],
   "source": [
    "movie_infos_scaled = movieScaler.transform(movie_infos)"
   ]
  },
  {
   "cell_type": "code",
   "execution_count": 9,
   "id": "e03df0bf",
   "metadata": {},
   "outputs": [],
   "source": [
    "ratings = pd.read_csv(\"rating_matrix_generated.csv\")"
   ]
  },
  {
   "cell_type": "code",
   "execution_count": 10,
   "id": "88a56997",
   "metadata": {},
   "outputs": [],
   "source": [
    "ratings_matrix = ratings.to_numpy()"
   ]
  },
  {
   "cell_type": "code",
   "execution_count": 11,
   "id": "b712cf73",
   "metadata": {},
   "outputs": [],
   "source": [
    "movie_ids = list(ratings.columns)"
   ]
  },
  {
   "cell_type": "code",
   "execution_count": 12,
   "id": "a0766fae",
   "metadata": {},
   "outputs": [
    {
     "data": {
      "text/plain": [
       "(300, 603)"
      ]
     },
     "execution_count": 12,
     "metadata": {},
     "output_type": "execute_result"
    }
   ],
   "source": [
    "ratings_matrix.shape"
   ]
  },
  {
   "cell_type": "code",
   "execution_count": 13,
   "id": "46ff9906",
   "metadata": {},
   "outputs": [
    {
     "data": {
      "text/plain": [
       "(603, 128)"
      ]
     },
     "execution_count": 13,
     "metadata": {},
     "output_type": "execute_result"
    }
   ],
   "source": [
    "movie_infos_scaled.shape"
   ]
  },
  {
   "cell_type": "code",
   "execution_count": 14,
   "id": "24362dfb",
   "metadata": {},
   "outputs": [],
   "source": [
    "user_movie_watched = []\n",
    "for userRatings in ratings_matrix :\n",
    "    watched = []\n",
    "    limit = np.random.randint(2, 10)\n",
    "\n",
    "    for i, elem in enumerate(userRatings) :\n",
    "\n",
    "        if elem > 0.5 :\n",
    "            watched.append(int(movie_ids[i]))\n",
    "        \n",
    "        if len(watched) >= limit :\n",
    "    \n",
    "            break\n",
    "    user_movie_watched.append(watched)\n"
   ]
  },
  {
   "cell_type": "code",
   "execution_count": 15,
   "id": "cc9508b8",
   "metadata": {},
   "outputs": [],
   "source": [
    "import tensorflow as tf\n",
    "from keras.layers import Dense\n",
    "from keras.optimizers import Adam "
   ]
  },
  {
   "cell_type": "code",
   "execution_count": 16,
   "id": "b865cd03",
   "metadata": {},
   "outputs": [],
   "source": [
    "num_user, num_movie = ratings_matrix.shape\n",
    "idendity_dimension = 32\n",
    "item_feat_dimension = movie_infos_scaled.shape[-1]\n",
    "\n",
    "userIdentityModel = tf.keras.Sequential([\n",
    "    Dense(256, \"relu\"),\n",
    "    Dense(256, \"relu\"),\n",
    "    Dense(idendity_dimension, \"linear\")\n",
    "]) "
   ]
  },
  {
   "cell_type": "code",
   "execution_count": 17,
   "id": "c4a64019",
   "metadata": {},
   "outputs": [],
   "source": [
    "from hybrid_filtering.hybrid_recommendation_system import Hybrid_recommendation_system\n",
    "predictor = Hybrid_recommendation_system(num_user, num_movie, 128, item_feat_dimension, lr=0.0001, l_d=32, binary=True)"
   ]
  },
  {
   "cell_type": "code",
   "execution_count": 18,
   "id": "b5ad7755",
   "metadata": {},
   "outputs": [],
   "source": [
    "def decaying_value(list_movies, gamma=0.9):\n",
    "    identity = np.zeros(item_feat_dimension)\n",
    "    for t, id in enumerate(list_movies) :\n",
    "        m_info = series_df[series_df[\"myid\"] == id].iloc[0, 8:].to_numpy()\n",
    "        m_info = m_info.astype(np.float64)\n",
    "\n",
    "        m_info = movieScaler.transform(m_info.reshape(1, -1))[0]\n",
    "\n",
    "        decay_factor =  gamma ** t \n",
    "        identity += decay_factor * m_info\n",
    "\n",
    "    identity = identity / (len(list_movies) or 1)\n",
    "\n",
    "    return identity "
   ]
  },
  {
   "cell_type": "code",
   "execution_count": 19,
   "id": "2448a08b",
   "metadata": {},
   "outputs": [],
   "source": [
    "user_features = []\n",
    "for usermovie in user_movie_watched :\n",
    "    user_features.append(decaying_value(usermovie))\n",
    "\n",
    "user_features = np.array(user_features)"
   ]
  },
  {
   "cell_type": "code",
   "execution_count": 20,
   "id": "901050fb",
   "metadata": {},
   "outputs": [
    {
     "data": {
      "text/plain": [
       "(300, 128)"
      ]
     },
     "execution_count": 20,
     "metadata": {},
     "output_type": "execute_result"
    }
   ],
   "source": [
    "user_features.shape"
   ]
  },
  {
   "cell_type": "code",
   "execution_count": 21,
   "id": "9e33a2b1",
   "metadata": {},
   "outputs": [],
   "source": [
    "user_index = np.arange(0, num_user)\n",
    "movie_index = np.arange(0, num_movie)\n",
    "\n",
    "predicted_user_features = userIdentityModel(user_features)\n"
   ]
  },
  {
   "cell_type": "code",
   "execution_count": 22,
   "id": "94af9eda",
   "metadata": {},
   "outputs": [],
   "source": [
    "test = predictor.prediction(predicted_user_features, movie_infos_scaled, indexes=(user_index, movie_index), expand=True)"
   ]
  },
  {
   "cell_type": "code",
   "execution_count": 24,
   "id": "055e4551",
   "metadata": {},
   "outputs": [
    {
     "data": {
      "text/plain": [
       "<tf.Tensor: shape=(1,), dtype=float32, numpy=array([0.49585283], dtype=float32)>"
      ]
     },
     "execution_count": 24,
     "metadata": {},
     "output_type": "execute_result"
    }
   ],
   "source": [
    "test[0]"
   ]
  },
  {
   "cell_type": "code",
   "execution_count": 22,
   "id": "0c2b69df",
   "metadata": {},
   "outputs": [],
   "source": [
    "rating_mask = np.where(ratings_matrix != 0.5, 1, 0)"
   ]
  },
  {
   "cell_type": "code",
   "execution_count": 23,
   "id": "cfeb793b",
   "metadata": {},
   "outputs": [],
   "source": [
    "test = predictor.prediction(user_features, movie_infos_scaled, indexes=(user_index, movie_index), expand=True)"
   ]
  },
  {
   "cell_type": "code",
   "execution_count": 24,
   "id": "994fde28",
   "metadata": {},
   "outputs": [
    {
     "ename": "ValueError",
     "evalue": "Shapes () and (180900, 1) are incompatible",
     "output_type": "error",
     "traceback": [
      "\u001b[1;31m---------------------------------------------------------------------------\u001b[0m",
      "\u001b[1;31mValueError\u001b[0m                                Traceback (most recent call last)",
      "\u001b[1;32mc:\\Users\\boudi\\recommender_system\\test.ipynb Cell 26\u001b[0m line \u001b[0;36m1\n\u001b[1;32m----> <a href='vscode-notebook-cell:/c%3A/Users/boudi/recommender_system/test.ipynb#Y200sZmlsZQ%3D%3D?line=0'>1</a>\u001b[0m predictor\u001b[39m.\u001b[39;49mtrain(user_features, movie_infos_scaled, (user_index, movie_index),\\\n\u001b[0;32m      <a href='vscode-notebook-cell:/c%3A/Users/boudi/recommender_system/test.ipynb#Y200sZmlsZQ%3D%3D?line=1'>2</a>\u001b[0m                  ratings_matrix\u001b[39m.\u001b[39;49mreshape(\u001b[39m-\u001b[39;49m\u001b[39m1\u001b[39;49m, \u001b[39m1\u001b[39;49m), rating_mask\u001b[39m.\u001b[39;49mreshape(\u001b[39m-\u001b[39;49m\u001b[39m1\u001b[39;49m, \u001b[39m1\u001b[39;49m), \\\n\u001b[0;32m      <a href='vscode-notebook-cell:/c%3A/Users/boudi/recommender_system/test.ipynb#Y200sZmlsZQ%3D%3D?line=2'>3</a>\u001b[0m                     expand\u001b[39m=\u001b[39;49m\u001b[39mTrue\u001b[39;49;00m, verbose\u001b[39m=\u001b[39;49m\u001b[39mTrue\u001b[39;49;00m, epochs\u001b[39m=\u001b[39;49m\u001b[39m100\u001b[39;49m)\n",
      "File \u001b[1;32mc:\\Users\\boudi\\recommender_system\\hybrid_filtering\\hybrid_recommendation_system.py:150\u001b[0m, in \u001b[0;36mHybrid_recommendation_system.train\u001b[1;34m(self, u_features, i_features, param_idx, ratings, rating_mask, expand, epochs, verbose)\u001b[0m\n\u001b[0;32m    148\u001b[0m \u001b[39mfor\u001b[39;00m iteration \u001b[39min\u001b[39;00m \u001b[39mrange\u001b[39m(training_epochs) :\n\u001b[0;32m    149\u001b[0m     \u001b[39mwith\u001b[39;00m tf\u001b[39m.\u001b[39mGradientTape() \u001b[39mas\u001b[39;00m tape :\n\u001b[1;32m--> 150\u001b[0m         loss \u001b[39m=\u001b[39m loss_func(u_features, i_features, ratings, rating_mask)\n\u001b[0;32m    152\u001b[0m     \u001b[39m# gradient step\u001b[39;00m\n\u001b[0;32m    153\u001b[0m     params \u001b[39m=\u001b[39m all_trainables_params()\n",
      "File \u001b[1;32mc:\\Users\\boudi\\recommender_system\\hybrid_filtering\\hybrid_recommendation_system.py:128\u001b[0m, in \u001b[0;36mHybrid_recommendation_system.train.<locals>.loss_func\u001b[1;34m(u_feat, i_feat, ratings, rating_mask)\u001b[0m\n\u001b[0;32m    125\u001b[0m     loss \u001b[39m=\u001b[39m tf\u001b[39m.\u001b[39mkeras\u001b[39m.\u001b[39mlosses\u001b[39m.\u001b[39mBinaryCrossentropy(from_logits\u001b[39m=\u001b[39m\u001b[39mFalse\u001b[39;00m)(ratings, output)\n\u001b[0;32m    127\u001b[0m     \u001b[39m# Apply the mask to the loss to filter out masked ratings\u001b[39;00m\n\u001b[1;32m--> 128\u001b[0m     masked_loss \u001b[39m=\u001b[39m tf\u001b[39m.\u001b[39;49mboolean_mask(loss, rating_mask)\n\u001b[0;32m    130\u001b[0m     \u001b[39mreturn\u001b[39;00m tf\u001b[39m.\u001b[39mreduce_mean(masked_loss),\n\u001b[0;32m    132\u001b[0m \u001b[39melse\u001b[39;00m :\n",
      "File \u001b[1;32mc:\\Users\\boudi\\homework\\mltools\\Lib\\site-packages\\tensorflow\\python\\util\\traceback_utils.py:153\u001b[0m, in \u001b[0;36mfilter_traceback.<locals>.error_handler\u001b[1;34m(*args, **kwargs)\u001b[0m\n\u001b[0;32m    151\u001b[0m \u001b[39mexcept\u001b[39;00m \u001b[39mException\u001b[39;00m \u001b[39mas\u001b[39;00m e:\n\u001b[0;32m    152\u001b[0m   filtered_tb \u001b[39m=\u001b[39m _process_traceback_frames(e\u001b[39m.\u001b[39m__traceback__)\n\u001b[1;32m--> 153\u001b[0m   \u001b[39mraise\u001b[39;00m e\u001b[39m.\u001b[39mwith_traceback(filtered_tb) \u001b[39mfrom\u001b[39;00m \u001b[39mNone\u001b[39;00m\n\u001b[0;32m    154\u001b[0m \u001b[39mfinally\u001b[39;00m:\n\u001b[0;32m    155\u001b[0m   \u001b[39mdel\u001b[39;00m filtered_tb\n",
      "File \u001b[1;32mc:\\Users\\boudi\\homework\\mltools\\Lib\\site-packages\\tensorflow\\python\\framework\\tensor_shape.py:1361\u001b[0m, in \u001b[0;36mTensorShape.assert_is_compatible_with\u001b[1;34m(self, other)\u001b[0m\n\u001b[0;32m   1349\u001b[0m \u001b[39m\u001b[39m\u001b[39m\"\"\"Raises exception if `self` and `other` do not represent the same shape.\u001b[39;00m\n\u001b[0;32m   1350\u001b[0m \n\u001b[0;32m   1351\u001b[0m \u001b[39mThis method can be used to assert that there exists a shape that both\u001b[39;00m\n\u001b[1;32m   (...)\u001b[0m\n\u001b[0;32m   1358\u001b[0m \u001b[39m  ValueError: If `self` and `other` do not represent the same shape.\u001b[39;00m\n\u001b[0;32m   1359\u001b[0m \u001b[39m\"\"\"\u001b[39;00m\n\u001b[0;32m   1360\u001b[0m \u001b[39mif\u001b[39;00m \u001b[39mnot\u001b[39;00m \u001b[39mself\u001b[39m\u001b[39m.\u001b[39mis_compatible_with(other):\n\u001b[1;32m-> 1361\u001b[0m   \u001b[39mraise\u001b[39;00m \u001b[39mValueError\u001b[39;00m(\u001b[39m\"\u001b[39m\u001b[39mShapes \u001b[39m\u001b[39m%s\u001b[39;00m\u001b[39m and \u001b[39m\u001b[39m%s\u001b[39;00m\u001b[39m are incompatible\u001b[39m\u001b[39m\"\u001b[39m \u001b[39m%\u001b[39m (\u001b[39mself\u001b[39m, other))\n",
      "\u001b[1;31mValueError\u001b[0m: Shapes () and (180900, 1) are incompatible"
     ]
    }
   ],
   "source": [
    "predictor.train(user_features, movie_infos_scaled, (user_index, movie_index),\\\n",
    "                 ratings_matrix.reshape(-1, 1), rating_mask.reshape(-1, 1), \\\n",
    "                    expand=True, verbose=True, epochs=100)"
   ]
  },
  {
   "cell_type": "code",
   "execution_count": null,
   "id": "982f157d",
   "metadata": {},
   "outputs": [],
   "source": []
  }
 ],
 "metadata": {
  "kernelspec": {
   "display_name": "mltools",
   "language": "python",
   "name": "python3"
  },
  "language_info": {
   "codemirror_mode": {
    "name": "ipython",
    "version": 3
   },
   "file_extension": ".py",
   "mimetype": "text/x-python",
   "name": "python",
   "nbconvert_exporter": "python",
   "pygments_lexer": "ipython3",
   "version": "3.11.1"
  }
 },
 "nbformat": 4,
 "nbformat_minor": 5
}
