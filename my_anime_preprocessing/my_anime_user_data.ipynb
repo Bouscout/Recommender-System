{
 "cells": [
  {
   "cell_type": "markdown",
   "metadata": {},
   "source": [
    "Clean up user info data from myanimeList dataset"
   ]
  },
  {
   "cell_type": "code",
   "execution_count": 1,
   "metadata": {},
   "outputs": [],
   "source": [
    "import pandas as pd\n",
    "import numpy as np\n",
    "import csv"
   ]
  },
  {
   "cell_type": "code",
   "execution_count": 2,
   "metadata": {},
   "outputs": [],
   "source": [
    "user_df = pd.read_csv(\"my_anime_data_cleaned/user_data_v2.csv\", sep=',')"
   ]
  },
  {
   "cell_type": "code",
   "execution_count": 3,
   "metadata": {},
   "outputs": [],
   "source": [
    "anime_df = pd.read_csv(\"my_anime_data_cleaned/anime_data.csv\", sep=\",\")"
   ]
  },
  {
   "cell_type": "code",
   "execution_count": 18,
   "metadata": {},
   "outputs": [
    {
     "data": {
      "text/plain": [
       "anime_index               0\n",
       "anime_id               2366\n",
       "TV                        1\n",
       "ONA                       0\n",
       "OVA                       0\n",
       "                       ... \n",
       "completed_count         173\n",
       "on_hold_count            31\n",
       "dropped_count            75\n",
       "plan_to_watch_count     544\n",
       "total_count             884\n",
       "Name: 0, Length: 87, dtype: object"
      ]
     },
     "execution_count": 18,
     "metadata": {},
     "output_type": "execute_result"
    }
   ],
   "source": [
    "anime_df.iloc[0]"
   ]
  },
  {
   "cell_type": "code",
   "execution_count": 4,
   "metadata": {},
   "outputs": [],
   "source": [
    "rating = pd.read_csv(\"myanimedata/user_data/user_anime000000000000.csv\", sep=\"\\t\")"
   ]
  },
  {
   "cell_type": "code",
   "execution_count": 5,
   "metadata": {},
   "outputs": [
    {
     "data": {
      "text/plain": [
       "(4003081, 16)"
      ]
     },
     "execution_count": 5,
     "metadata": {},
     "output_type": "execute_result"
    }
   ],
   "source": [
    "rating.shape"
   ]
  },
  {
   "cell_type": "code",
   "execution_count": 6,
   "metadata": {},
   "outputs": [
    {
     "data": {
      "text/plain": [
       "(13379, 87)"
      ]
     },
     "execution_count": 6,
     "metadata": {},
     "output_type": "execute_result"
    }
   ],
   "source": [
    "anime_df.shape"
   ]
  },
  {
   "cell_type": "code",
   "execution_count": 7,
   "metadata": {},
   "outputs": [
    {
     "data": {
      "text/plain": [
       "(1123284, 10)"
      ]
     },
     "execution_count": 7,
     "metadata": {},
     "output_type": "execute_result"
    }
   ],
   "source": [
    "user_df.shape"
   ]
  },
  {
   "cell_type": "code",
   "execution_count": 21,
   "metadata": {},
   "outputs": [
    {
     "data": {
      "text/plain": [
       "user_id         -agonia-\n",
       "anime_id           32262\n",
       "review_score         NaN\n",
       "score                NaN\n",
       "status           dropped\n",
       "progress             5.0\n",
       "Name: 100030, dtype: object"
      ]
     },
     "execution_count": 21,
     "metadata": {},
     "output_type": "execute_result"
    }
   ],
   "source": [
    "rating[[\"user_id\", \"anime_id\", \"review_score\", \"score\", \"status\", \"progress\"]].iloc[100030]"
   ]
  },
  {
   "cell_type": "code",
   "execution_count": 21,
   "metadata": {},
   "outputs": [
    {
     "data": {
      "text/html": [
       "<div>\n",
       "<style scoped>\n",
       "    .dataframe tbody tr th:only-of-type {\n",
       "        vertical-align: middle;\n",
       "    }\n",
       "\n",
       "    .dataframe tbody tr th {\n",
       "        vertical-align: top;\n",
       "    }\n",
       "\n",
       "    .dataframe thead th {\n",
       "        text-align: right;\n",
       "    }\n",
       "</style>\n",
       "<table border=\"1\" class=\"dataframe\">\n",
       "  <thead>\n",
       "    <tr style=\"text-align: right;\">\n",
       "      <th></th>\n",
       "      <th>user_id</th>\n",
       "      <th>num_watching</th>\n",
       "      <th>num_completed</th>\n",
       "      <th>num_on_hold</th>\n",
       "      <th>num_dropped</th>\n",
       "      <th>num_plan_to_watch</th>\n",
       "      <th>num_days</th>\n",
       "      <th>mean_score</th>\n",
       "    </tr>\n",
       "  </thead>\n",
       "  <tbody>\n",
       "    <tr>\n",
       "      <th>519533</th>\n",
       "      <td>--chinoda--</td>\n",
       "      <td>3</td>\n",
       "      <td>190</td>\n",
       "      <td>6</td>\n",
       "      <td>5</td>\n",
       "      <td>97</td>\n",
       "      <td>56.6</td>\n",
       "      <td>6.24</td>\n",
       "    </tr>\n",
       "  </tbody>\n",
       "</table>\n",
       "</div>"
      ],
      "text/plain": [
       "            user_id  num_watching  num_completed  num_on_hold  num_dropped  \\\n",
       "519533  --chinoda--             3            190            6            5   \n",
       "\n",
       "        num_plan_to_watch  num_days  mean_score  \n",
       "519533                 97      56.6        6.24  "
      ]
     },
     "execution_count": 21,
     "metadata": {},
     "output_type": "execute_result"
    }
   ],
   "source": [
    "user_df[user_df[\"user_id\"] == \"--chinoda--\"]"
   ]
  },
  {
   "cell_type": "code",
   "execution_count": 8,
   "metadata": {},
   "outputs": [
    {
     "data": {
      "text/plain": [
       "array(['completed', 'plan_to_watch', 'on_hold', 'watching', 'dropped'],\n",
       "      dtype=object)"
      ]
     },
     "execution_count": 8,
     "metadata": {},
     "output_type": "execute_result"
    }
   ],
   "source": [
    "rating[\"status\"].unique()"
   ]
  },
  {
   "cell_type": "code",
   "execution_count": 9,
   "metadata": {},
   "outputs": [],
   "source": [
    "good_side = [\"completed\", \"plan_to_watch\", \"watching\"]"
   ]
  },
  {
   "cell_type": "code",
   "execution_count": 10,
   "metadata": {},
   "outputs": [],
   "source": [
    "user_df[\"watched\"] = None"
   ]
  },
  {
   "cell_type": "code",
   "execution_count": 14,
   "metadata": {},
   "outputs": [
    {
     "data": {
      "text/plain": [
       "user_index             42871\n",
       "user_id              -------\n",
       "num_watching              57\n",
       "num_completed            401\n",
       "num_on_hold               55\n",
       "num_dropped                0\n",
       "num_plan_to_watch        310\n",
       "num_days               177.4\n",
       "mean_score              6.53\n",
       "watched                 None\n",
       "Name: 42871, dtype: object"
      ]
     },
     "execution_count": 14,
     "metadata": {},
     "output_type": "execute_result"
    }
   ],
   "source": [
    "user_df[user_df[\"user_id\"] == \"-------\"].iloc[0]"
   ]
  },
  {
   "cell_type": "code",
   "execution_count": 22,
   "metadata": {},
   "outputs": [],
   "source": [
    "user_df.loc[user_df[\"user_id\"] == \"-agonia-\", \"watched\"] += \"voiture\""
   ]
  },
  {
   "cell_type": "code",
   "execution_count": 29,
   "metadata": {},
   "outputs": [
    {
     "data": {
      "text/plain": [
       "950737    True\n",
       "Name: watched, dtype: bool"
      ]
     },
     "execution_count": 29,
     "metadata": {},
     "output_type": "execute_result"
    }
   ],
   "source": [
    "user_df[user_df[\"user_id\"] == \"-agonia-\"][\"watched\"].isnull()"
   ]
  },
  {
   "cell_type": "code",
   "execution_count": 48,
   "metadata": {},
   "outputs": [
    {
     "data": {
      "text/plain": [
       "(1123284, 10)"
      ]
     },
     "execution_count": 48,
     "metadata": {},
     "output_type": "execute_result"
    }
   ],
   "source": [
    "user_df.shape"
   ]
  },
  {
   "cell_type": "code",
   "execution_count": 49,
   "metadata": {},
   "outputs": [
    {
     "data": {
      "text/plain": [
       "13053"
      ]
     },
     "execution_count": 49,
     "metadata": {},
     "output_type": "execute_result"
    }
   ],
   "source": [
    "len(rating[\"anime_id\"].unique())"
   ]
  },
  {
   "cell_type": "code",
   "execution_count": 23,
   "metadata": {},
   "outputs": [],
   "source": [
    "rating_matrix = np.empty((anime_df.shape[0], user_df.shape[0]),dtype=np.int8)"
   ]
  },
  {
   "cell_type": "code",
   "execution_count": 24,
   "metadata": {},
   "outputs": [],
   "source": [
    "rating_matrix.fill(-1)"
   ]
  },
  {
   "cell_type": "code",
   "execution_count": 25,
   "metadata": {},
   "outputs": [
    {
     "data": {
      "text/plain": [
       "(13379, 1123284)"
      ]
     },
     "execution_count": 25,
     "metadata": {},
     "output_type": "execute_result"
    }
   ],
   "source": [
    "rating_matrix.shape"
   ]
  },
  {
   "cell_type": "code",
   "execution_count": 64,
   "metadata": {},
   "outputs": [
    {
     "name": "stdout",
     "output_type": "stream",
     "text": [
      "616798\r"
     ]
    },
    {
     "ename": "KeyboardInterrupt",
     "evalue": "",
     "output_type": "error",
     "traceback": [
      "\u001b[1;31m---------------------------------------------------------------------------\u001b[0m",
      "\u001b[1;31mKeyboardInterrupt\u001b[0m                         Traceback (most recent call last)",
      "\u001b[1;32mc:\\Users\\Ghost\\recommender_system\\my_anime_user_data.ipynb Cell 23\u001b[0m line \u001b[0;36m2\n\u001b[0;32m     <a href='vscode-notebook-cell:/c%3A/Users/Ghost/recommender_system/my_anime_user_data.ipynb#X21sZmlsZQ%3D%3D?line=20'>21</a>\u001b[0m     rating_matrix[anime_index, user_index] \u001b[39m=\u001b[39m rate\n\u001b[0;32m     <a href='vscode-notebook-cell:/c%3A/Users/Ghost/recommender_system/my_anime_user_data.ipynb#X21sZmlsZQ%3D%3D?line=23'>24</a>\u001b[0m \u001b[39mif\u001b[39;00m status \u001b[39min\u001b[39;00m good_side \u001b[39mor\u001b[39;00m rate \u001b[39m==\u001b[39m \u001b[39m1\u001b[39m :\n\u001b[1;32m---> <a href='vscode-notebook-cell:/c%3A/Users/Ghost/recommender_system/my_anime_user_data.ipynb#X21sZmlsZQ%3D%3D?line=24'>25</a>\u001b[0m     \u001b[39mif\u001b[39;00m \u001b[39mnot\u001b[39;00m user_df[user_df[\u001b[39m\"\u001b[39;49m\u001b[39muser_id\u001b[39;49m\u001b[39m\"\u001b[39;49m] \u001b[39m==\u001b[39;49m username]\u001b[39m.\u001b[39miloc[\u001b[39m0\u001b[39m]\u001b[39m.\u001b[39mvalues[\u001b[39m-\u001b[39m\u001b[39m1\u001b[39m] :\n\u001b[0;32m     <a href='vscode-notebook-cell:/c%3A/Users/Ghost/recommender_system/my_anime_user_data.ipynb#X21sZmlsZQ%3D%3D?line=25'>26</a>\u001b[0m         user_df\u001b[39m.\u001b[39mloc[user_df[\u001b[39m\"\u001b[39m\u001b[39muser_id\u001b[39m\u001b[39m\"\u001b[39m] \u001b[39m==\u001b[39m username, \u001b[39m\"\u001b[39m\u001b[39mwatched\u001b[39m\u001b[39m\"\u001b[39m] \u001b[39m=\u001b[39m \u001b[39mstr\u001b[39m(row[\u001b[39m\"\u001b[39m\u001b[39manime_id\u001b[39m\u001b[39m\"\u001b[39m]) \u001b[39m+\u001b[39m \u001b[39m\"\u001b[39m\u001b[39m|\u001b[39m\u001b[39m\"\u001b[39m\n\u001b[0;32m     <a href='vscode-notebook-cell:/c%3A/Users/Ghost/recommender_system/my_anime_user_data.ipynb#X21sZmlsZQ%3D%3D?line=27'>28</a>\u001b[0m     \u001b[39melse\u001b[39;00m :\n",
      "File \u001b[1;32mc:\\Users\\Ghost\\ML_tools\\Lib\\site-packages\\pandas\\core\\ops\\common.py:76\u001b[0m, in \u001b[0;36m_unpack_zerodim_and_defer.<locals>.new_method\u001b[1;34m(self, other)\u001b[0m\n\u001b[0;32m     72\u001b[0m             \u001b[39mreturn\u001b[39;00m \u001b[39mNotImplemented\u001b[39m\n\u001b[0;32m     74\u001b[0m other \u001b[39m=\u001b[39m item_from_zerodim(other)\n\u001b[1;32m---> 76\u001b[0m \u001b[39mreturn\u001b[39;00m method(\u001b[39mself\u001b[39;49m, other)\n",
      "File \u001b[1;32mc:\\Users\\Ghost\\ML_tools\\Lib\\site-packages\\pandas\\core\\arraylike.py:40\u001b[0m, in \u001b[0;36mOpsMixin.__eq__\u001b[1;34m(self, other)\u001b[0m\n\u001b[0;32m     38\u001b[0m \u001b[39m@unpack_zerodim_and_defer\u001b[39m(\u001b[39m\"\u001b[39m\u001b[39m__eq__\u001b[39m\u001b[39m\"\u001b[39m)\n\u001b[0;32m     39\u001b[0m \u001b[39mdef\u001b[39;00m \u001b[39m__eq__\u001b[39m(\u001b[39mself\u001b[39m, other):\n\u001b[1;32m---> 40\u001b[0m     \u001b[39mreturn\u001b[39;00m \u001b[39mself\u001b[39;49m\u001b[39m.\u001b[39;49m_cmp_method(other, operator\u001b[39m.\u001b[39;49meq)\n",
      "File \u001b[1;32mc:\\Users\\Ghost\\ML_tools\\Lib\\site-packages\\pandas\\core\\series.py:5799\u001b[0m, in \u001b[0;36mSeries._cmp_method\u001b[1;34m(self, other, op)\u001b[0m\n\u001b[0;32m   5796\u001b[0m lvalues \u001b[39m=\u001b[39m \u001b[39mself\u001b[39m\u001b[39m.\u001b[39m_values\n\u001b[0;32m   5797\u001b[0m rvalues \u001b[39m=\u001b[39m extract_array(other, extract_numpy\u001b[39m=\u001b[39m\u001b[39mTrue\u001b[39;00m, extract_range\u001b[39m=\u001b[39m\u001b[39mTrue\u001b[39;00m)\n\u001b[1;32m-> 5799\u001b[0m res_values \u001b[39m=\u001b[39m ops\u001b[39m.\u001b[39;49mcomparison_op(lvalues, rvalues, op)\n\u001b[0;32m   5801\u001b[0m \u001b[39mreturn\u001b[39;00m \u001b[39mself\u001b[39m\u001b[39m.\u001b[39m_construct_result(res_values, name\u001b[39m=\u001b[39mres_name)\n",
      "File \u001b[1;32mc:\\Users\\Ghost\\ML_tools\\Lib\\site-packages\\pandas\\core\\ops\\array_ops.py:346\u001b[0m, in \u001b[0;36mcomparison_op\u001b[1;34m(left, right, op)\u001b[0m\n\u001b[0;32m    343\u001b[0m     \u001b[39mreturn\u001b[39;00m invalid_comparison(lvalues, rvalues, op)\n\u001b[0;32m    345\u001b[0m \u001b[39melif\u001b[39;00m lvalues\u001b[39m.\u001b[39mdtype \u001b[39m==\u001b[39m \u001b[39mobject\u001b[39m \u001b[39mor\u001b[39;00m \u001b[39misinstance\u001b[39m(rvalues, \u001b[39mstr\u001b[39m):\n\u001b[1;32m--> 346\u001b[0m     res_values \u001b[39m=\u001b[39m comp_method_OBJECT_ARRAY(op, lvalues, rvalues)\n\u001b[0;32m    348\u001b[0m \u001b[39melse\u001b[39;00m:\n\u001b[0;32m    349\u001b[0m     res_values \u001b[39m=\u001b[39m _na_arithmetic_op(lvalues, rvalues, op, is_cmp\u001b[39m=\u001b[39m\u001b[39mTrue\u001b[39;00m)\n",
      "File \u001b[1;32mc:\\Users\\Ghost\\ML_tools\\Lib\\site-packages\\pandas\\core\\ops\\array_ops.py:132\u001b[0m, in \u001b[0;36mcomp_method_OBJECT_ARRAY\u001b[1;34m(op, x, y)\u001b[0m\n\u001b[0;32m    130\u001b[0m \u001b[39melse\u001b[39;00m:\n\u001b[0;32m    131\u001b[0m     result \u001b[39m=\u001b[39m libops\u001b[39m.\u001b[39mscalar_compare(x\u001b[39m.\u001b[39mravel(), y, op)\n\u001b[1;32m--> 132\u001b[0m \u001b[39mreturn\u001b[39;00m result\u001b[39m.\u001b[39;49mreshape(x\u001b[39m.\u001b[39;49mshape)\n",
      "\u001b[1;31mKeyboardInterrupt\u001b[0m: "
     ]
    }
   ],
   "source": [
    "# user_df[\"watched\"] = None\n",
    "correction_index = 411663\n",
    "# last_index = 411663\n",
    "previous_id = 0\n",
    "for i, row in rating.iloc[last_index:].iterrows() :\n",
    "    status = row[\"status\"]\n",
    "    username = row[\"user_id\"]\n",
    "    score = row[\"score\"]\n",
    "     \n",
    "    anime_id = row[\"anime_id\"]\n",
    "\n",
    "\n",
    "    if isinstance(score, float) :\n",
    "        rate = 1 if score >= 6 else 0\n",
    "\n",
    "        if username != previous_id :\n",
    "            user_index = user_df.loc[user_df[\"user_id\"] == username, \"user_index\"].iloc[0]\n",
    "        \n",
    "        anime_index = anime_df.loc[anime_df[\"anime_id\"] == anime_id, \"anime_index\"].iloc[0]\n",
    "\n",
    "        rating_matrix[anime_index, user_index] = rate\n",
    "\n",
    "\n",
    "    if status in good_side or rate == 1 :\n",
    "        if not user_df[user_df[\"user_id\"] == username].iloc[0].values[-1] :\n",
    "            user_df.loc[user_df[\"user_id\"] == username, \"watched\"] = str(row[\"anime_id\"]) + \"|\"\n",
    "\n",
    "        else :\n",
    "            old_value = user_df.loc[user_df[\"user_id\"] == username][\"watched\"].iloc[0]\n",
    "\n",
    "            new_value = str(old_value) + str(anime_id) + \"|\"\n",
    "\n",
    "            user_df.loc[user_df[\"user_id\"]== username, \"watched\"] = new_value\n",
    "\n",
    "    print(i, end=\"\\r\")\n",
    "    last_index = i\n",
    "\n",
    "    previous_id = username\n"
   ]
  },
  {
   "cell_type": "code",
   "execution_count": 44,
   "metadata": {},
   "outputs": [
    {
     "data": {
      "text/plain": [
       "'1|10029|10030|1004|10055|10075|10083|10087|10092|1016|10162|10178|10216|1023|10259|10271|1029|1030|1033|1034|10379|10389|10408|10448|10460|1049|10500|10501|10589|10620|10622|10638|10643|10659|10686|1072|10721|1074|10800|10863|10893|1094|11061|11077|1109|11111|11113|1117|1118|1119|11241|1132|1142|11577|11633|11665|11701|11703|11739|11741|11771|11843|11887|1192|11981|12029|1205|12067|12069|1209|12189|12355|12413|12431|12445|12477|1251|12531|12565|12883|12893|1303|13125|1313|13169|13171|13173|13175|13253|1329|13331|13335|13469|13535|13599|136|13601|13629|1363|1364|1365|1367|137|1370|1373|1375|13759|1379|138|13807|13863|139|14075|14175|14189|14227|1430|14345|14347|14349|14353|14373|14397|14467|14513|1453|1462|14719|14807|14813|15021|15037|15039|1505|1506|1519|1520|1521|15227|15335|1535|15359|15417|15487|1564|1566|15689|1575|15809|15813|16|160|16001|16067|1614|16143|16149|16239|16241|16331|164|16498|16524|16528|16662|16664|16700|1674|16762|16774|16782|1681|1686|16866|16870|1689|16894|16916|16918|1696|1698|170|17121|1726|17549|17573|17635|1764|17887|17895|17909|18115|18119|18139|18153|18177|18179|1818|1824|1825|1827|1829|18397|18441|1861|18679|18689|18745|18753|18849|1889|18897|1894|19|19115|19117|19123|1913|19211|19285|19363|19383|1943|19489|19511|1961|19647|19759|19775|1983|1985|199|20|2000|2001|2004|20057|202|2025|2035|20431|20469|205|20507|20583|20651|20671|20673|20767|20889|20899|20903|20977|2107|21329|21339|21405|21437|2144|2154|21557|2158|21587|2164|21659|21667|2167|2175|21939|22097|22125|22135|2216|22199|2228|2229|22297|2235|2236|2246|2248|2251|22535|22583|22689|227|22729|22763|22789|22839|23199|23249|23273|23281|23283|23289|23327|23385|23623|23835|23847|2385|2386|239|2397|2398|23987|2402|2418|24227|24277|24365|24439|24469|24471|2449|245|2460|24687|24701|2472|24781|24833|2488|24893|2490|24913|24975|2498|2499|25045|25161|25183|25303|25313|25341|2547|2557|2559|256|25687|2569|2569|25777|25781|2581|25835|2593|2594|26055|2617|263|264|265|267|2680|269|27411|2751|2753|2759|27633|27655|2767|27787|27821|27831|27833|27969|28069|28223|28249|2825|2829|28405|28621|28625|28701|28725|28735|28755|28805|28851|2889|28891|2890|2891|28957|28977|2899|29|2904|2921|2924|29301|29325|2951|29513|29583|2961|30|30015|3002|3010|3014|3015|3016|30187|30191|302|30230|30276|3031|3032|30413|30484|30585|30654|30740|3087|3088|31043|3111|31174|31240|31389|31405|31552|31580|31646|3167|317|31704|31741|31772|31783|31821|31933|31964|32|32015|32108|32182|32188|32281|323|32365|32366|32491|32494|32542|32547|32551|32574|32648|32668|32827|329|32902|32935|32948|32983|32998|33032|33095|33129|33161|33191|33218|33221|33253|33254|33255|3326|33263|33337|33352|33486|33524|33606|3371|338|339|33929|33950|3401|34076|34096|34134|34299|34349|34451|345|34534|34537|34541|34542|'"
      ]
     },
     "execution_count": 44,
     "metadata": {},
     "output_type": "execute_result"
    }
   ],
   "source": [
    "user_df[user_df[\"user_id\"] == \"-khaled\"].iloc[0, -1]"
   ]
  },
  {
   "cell_type": "code",
   "execution_count": 65,
   "metadata": {},
   "outputs": [],
   "source": [
    "user_df.to_csv(\"my_anime_data_cleaned/user_data_v2.csv\", index=False, sep=\",\")"
   ]
  },
  {
   "cell_type": "code",
   "execution_count": 50,
   "metadata": {},
   "outputs": [],
   "source": [
    "matrix_df = pd.DataFrame()"
   ]
  },
  {
   "cell_type": "code",
   "execution_count": 51,
   "metadata": {},
   "outputs": [],
   "source": [
    "matrix_df[\"anime_index\"] = anime_df[\"anime_index\"]"
   ]
  },
  {
   "cell_type": "code",
   "execution_count": 52,
   "metadata": {},
   "outputs": [],
   "source": [
    "matrix_df.drop(columns=[\"anime_id\"], inplace=True)"
   ]
  },
  {
   "cell_type": "code",
   "execution_count": 66,
   "metadata": {},
   "outputs": [],
   "source": [
    "def add_entry(row):\n",
    "    user_index = user_df.loc[user_df[\"user_id\"] == row[\"user_id\"], \"user_index\"].iloc[0]\n",
    "    \n",
    "    anime_index = anime_df.loc[anime_df[\"anime_id\"] == row[\"anime_id\"], \"anime_index\"].iloc[0]\n",
    "\n",
    "    score = row[\"score\"]\n",
    "\n",
    "    # rate = 1 if score >= 6 else 0\n",
    "    rate = score\n",
    "\n",
    "    if user_index not in matrix_df.columns :\n",
    "        matrix_df[user_index] = -1\n",
    "\n",
    "    matrix_df.loc[matrix_df[\"anime_index\"] == anime_index, user_index] = rate"
   ]
  },
  {
   "cell_type": "code",
   "execution_count": null,
   "metadata": {},
   "outputs": [],
   "source": [
    "for j, row in rating.iloc[correction_index+20000:last_index].iterrows() :\n",
    "    add_entry(row)\n",
    "\n",
    "    print(\"left : \", last_index - j, end=\"\\r\")"
   ]
  },
  {
   "cell_type": "code",
   "execution_count": 72,
   "metadata": {},
   "outputs": [
    {
     "data": {
      "text/plain": [
       "616798"
      ]
     },
     "execution_count": 72,
     "metadata": {},
     "output_type": "execute_result"
    }
   ],
   "source": [
    "test_matrix_start_index = last_index\n",
    "test_matrix_start_index"
   ]
  },
  {
   "cell_type": "code",
   "execution_count": null,
   "metadata": {},
   "outputs": [],
   "source": [
    "last_index = 616798\n",
    "correction_index = 411663"
   ]
  },
  {
   "cell_type": "code",
   "execution_count": 68,
   "metadata": {},
   "outputs": [
    {
     "data": {
      "text/plain": [
       "(13379, 574)"
      ]
     },
     "execution_count": 68,
     "metadata": {},
     "output_type": "execute_result"
    }
   ],
   "source": [
    "matrix_df.shape"
   ]
  },
  {
   "cell_type": "code",
   "execution_count": 69,
   "metadata": {},
   "outputs": [],
   "source": [
    "matrix_df.to_csv(\"my_anime_data_cleaned/rating_matrix_v1.csv\", index=False, sep=\",\")"
   ]
  },
  {
   "cell_type": "code",
   "execution_count": null,
   "metadata": {},
   "outputs": [],
   "source": []
  }
 ],
 "metadata": {
  "kernelspec": {
   "display_name": "tf",
   "language": "python",
   "name": "python3"
  },
  "language_info": {
   "codemirror_mode": {
    "name": "ipython",
    "version": 3
   },
   "file_extension": ".py",
   "mimetype": "text/x-python",
   "name": "python",
   "nbconvert_exporter": "python",
   "pygments_lexer": "ipython3",
   "version": "3.11.0"
  }
 },
 "nbformat": 4,
 "nbformat_minor": 2
}
