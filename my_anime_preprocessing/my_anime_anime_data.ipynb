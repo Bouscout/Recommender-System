{
 "cells": [
  {
   "cell_type": "markdown",
   "metadata": {},
   "source": [
    "Clean anime data from my animelist raw dataset"
   ]
  },
  {
   "cell_type": "code",
   "execution_count": 1,
   "metadata": {},
   "outputs": [],
   "source": [
    "import pandas as pd\n",
    "import numpy as np"
   ]
  },
  {
   "cell_type": "code",
   "execution_count": 2,
   "metadata": {},
   "outputs": [],
   "source": [
    "anime_df = pd.read_csv(\"my_anime_data_cleaned/anime_data.csv\", sep=\",\")"
   ]
  },
  {
   "cell_type": "code",
   "execution_count": 3,
   "metadata": {},
   "outputs": [],
   "source": [
    "anime_df.to_csv(\"my_anime_data_cleaned/anime_data.csv\", sep=\",\", index=True, index_label=\"anime_index\")"
   ]
  },
  {
   "cell_type": "code",
   "execution_count": 45,
   "metadata": {},
   "outputs": [
    {
     "data": {
      "text/plain": [
       "Index(['anime_id', 'type', 'source_type', 'num_episodes', 'status',\n",
       "       'start_date', 'end_date', 'season', 'genres', 'score', 'score_count',\n",
       "       'score_rank', 'popularity_rank', 'members_count', 'favorites_count',\n",
       "       'watching_count', 'completed_count', 'on_hold_count', 'dropped_count',\n",
       "       'plan_to_watch_count', 'total_count'],\n",
       "      dtype='object')"
      ]
     },
     "execution_count": 45,
     "metadata": {},
     "output_type": "execute_result"
    }
   ],
   "source": [
    "anime_df.columns"
   ]
  },
  {
   "cell_type": "code",
   "execution_count": 25,
   "metadata": {},
   "outputs": [],
   "source": [
    "# dropping some columns\n",
    "unnecessary_columns = [\"anime_url\", \"title\", \"synopsis\", \"main_pic\", \"studios\", \"pics\", \"clubs\"]\n",
    "anime_df.drop(columns=unnecessary_columns, inplace=True)"
   ]
  },
  {
   "cell_type": "code",
   "execution_count": 44,
   "metadata": {},
   "outputs": [],
   "source": [
    "anime_df.drop(columns=[f\"score_10_count\"], inplace=True)"
   ]
  },
  {
   "cell_type": "code",
   "execution_count": 6,
   "metadata": {},
   "outputs": [],
   "source": [
    "all_genres = set()\n",
    "for index, row in anime_df.iterrows() :\n",
    "    genre = row[\"genres\"]\n",
    "\n",
    "    genres = str(genre).split(\"|\")\n",
    "\n",
    "    for genre in genres :\n",
    "        all_genres.add(genre)"
   ]
  },
  {
   "cell_type": "code",
   "execution_count": 8,
   "metadata": {},
   "outputs": [],
   "source": [
    "all_genres = list(all_genres)"
   ]
  },
  {
   "cell_type": "code",
   "execution_count": null,
   "metadata": {},
   "outputs": [],
   "source": [
    "all_genres"
   ]
  },
  {
   "cell_type": "code",
   "execution_count": 13,
   "metadata": {},
   "outputs": [],
   "source": [
    "statuts = anime_df[\"status\"].unique()"
   ]
  },
  {
   "cell_type": "code",
   "execution_count": 14,
   "metadata": {},
   "outputs": [
    {
     "data": {
      "text/plain": [
       "array(['Finished Airing', 'Currently Airing', 'Not yet aired'],\n",
       "      dtype=object)"
      ]
     },
     "execution_count": 14,
     "metadata": {},
     "output_type": "execute_result"
    }
   ],
   "source": [
    "statuts"
   ]
  },
  {
   "cell_type": "code",
   "execution_count": 21,
   "metadata": {},
   "outputs": [],
   "source": [
    "seasons = [\"Winter\", \"Summer\", \"Fall\", \"Spring\"]"
   ]
  },
  {
   "cell_type": "code",
   "execution_count": 28,
   "metadata": {},
   "outputs": [
    {
     "data": {
      "text/plain": [
       "array(['TV', 'ONA', 'OVA', 'Movie', 'Special'], dtype=object)"
      ]
     },
     "execution_count": 28,
     "metadata": {},
     "output_type": "execute_result"
    }
   ],
   "source": [
    "types = anime_df[\"type\"].unique()"
   ]
  },
  {
   "cell_type": "code",
   "execution_count": 30,
   "metadata": {},
   "outputs": [],
   "source": [
    "source_types = anime_df[\"source_type\"].unique()"
   ]
  },
  {
   "cell_type": "code",
   "execution_count": 63,
   "metadata": {},
   "outputs": [],
   "source": [
    "one_hot_params = {\n",
    "    \"status\" : statuts,\n",
    "    \"season\" : seasons,\n",
    "    \"type\" : types,\n",
    "    \"source_type\" : source_types,\n",
    "    \"genres\" : all_genres,\n",
    "}\n",
    "\n",
    "for key in one_hot_params :\n",
    "    value_dict = {}\n",
    "    for entry in one_hot_params[key] :\n",
    "        if key == \"genres\" :\n",
    "            name = \"g_\" + str(entry)\n",
    "        else :\n",
    "            name = entry\n",
    "             \n",
    "        value_dict[name] = 0\n",
    "\n",
    "    one_hot_params[key] = value_dict"
   ]
  },
  {
   "cell_type": "code",
   "execution_count": 42,
   "metadata": {},
   "outputs": [
    {
     "data": {
      "text/html": [
       "<div>\n",
       "<style scoped>\n",
       "    .dataframe tbody tr th:only-of-type {\n",
       "        vertical-align: middle;\n",
       "    }\n",
       "\n",
       "    .dataframe tbody tr th {\n",
       "        vertical-align: top;\n",
       "    }\n",
       "\n",
       "    .dataframe thead th {\n",
       "        text-align: right;\n",
       "    }\n",
       "</style>\n",
       "<table border=\"1\" class=\"dataframe\">\n",
       "  <thead>\n",
       "    <tr style=\"text-align: right;\">\n",
       "      <th></th>\n",
       "      <th>anime_id</th>\n",
       "      <th>score</th>\n",
       "    </tr>\n",
       "  </thead>\n",
       "  <tbody>\n",
       "    <tr>\n",
       "      <th>686</th>\n",
       "      <td>41392</td>\n",
       "      <td>6.50</td>\n",
       "    </tr>\n",
       "    <tr>\n",
       "      <th>687</th>\n",
       "      <td>30524</td>\n",
       "      <td>6.20</td>\n",
       "    </tr>\n",
       "    <tr>\n",
       "      <th>688</th>\n",
       "      <td>10611</td>\n",
       "      <td>6.39</td>\n",
       "    </tr>\n",
       "    <tr>\n",
       "      <th>689</th>\n",
       "      <td>24</td>\n",
       "      <td>7.82</td>\n",
       "    </tr>\n",
       "    <tr>\n",
       "      <th>690</th>\n",
       "      <td>42203</td>\n",
       "      <td>8.46</td>\n",
       "    </tr>\n",
       "    <tr>\n",
       "      <th>691</th>\n",
       "      <td>23273</td>\n",
       "      <td>8.62</td>\n",
       "    </tr>\n",
       "    <tr>\n",
       "      <th>692</th>\n",
       "      <td>36425</td>\n",
       "      <td>7.24</td>\n",
       "    </tr>\n",
       "    <tr>\n",
       "      <th>693</th>\n",
       "      <td>1892</td>\n",
       "      <td>7.25</td>\n",
       "    </tr>\n",
       "    <tr>\n",
       "      <th>694</th>\n",
       "      <td>10346</td>\n",
       "      <td>6.78</td>\n",
       "    </tr>\n",
       "    <tr>\n",
       "      <th>695</th>\n",
       "      <td>6067</td>\n",
       "      <td>6.76</td>\n",
       "    </tr>\n",
       "  </tbody>\n",
       "</table>\n",
       "</div>"
      ],
      "text/plain": [
       "     anime_id  score\n",
       "686     41392   6.50\n",
       "687     30524   6.20\n",
       "688     10611   6.39\n",
       "689        24   7.82\n",
       "690     42203   8.46\n",
       "691     23273   8.62\n",
       "692     36425   7.24\n",
       "693      1892   7.25\n",
       "694     10346   6.78\n",
       "695      6067   6.76"
      ]
     },
     "execution_count": 42,
     "metadata": {},
     "output_type": "execute_result"
    }
   ],
   "source": [
    "anime_df[~anime_df[\"score\"].isna()].iloc[0:10][[\"anime_id\", \"score\"]]"
   ]
  },
  {
   "cell_type": "code",
   "execution_count": 46,
   "metadata": {},
   "outputs": [
    {
     "data": {
      "text/plain": [
       "['anime_id',\n",
       " 'type',\n",
       " 'source_type',\n",
       " 'num_episodes',\n",
       " 'status',\n",
       " 'start_date',\n",
       " 'end_date',\n",
       " 'season',\n",
       " 'genres',\n",
       " 'score',\n",
       " 'score_count',\n",
       " 'score_rank',\n",
       " 'popularity_rank',\n",
       " 'members_count',\n",
       " 'favorites_count',\n",
       " 'watching_count',\n",
       " 'completed_count',\n",
       " 'on_hold_count',\n",
       " 'dropped_count',\n",
       " 'plan_to_watch_count',\n",
       " 'total_count']"
      ]
     },
     "execution_count": 46,
     "metadata": {},
     "output_type": "execute_result"
    }
   ],
   "source": [
    "new_colums = list(anime_df.columns)\n",
    "columns_to_remove = [\"type\", \"source_type\", \"status\", \"season\", \"genres\"]\n",
    "new_colums"
   ]
  },
  {
   "cell_type": "code",
   "execution_count": 89,
   "metadata": {},
   "outputs": [],
   "source": [
    "def handle_genres(genres_str:str) -> dict :\n",
    "    genres = genres_str.split(\"|\")\n",
    "    values = dict(one_hot_params[\"genres\"])\n",
    "\n",
    "    for genre in genres :\n",
    "        genre = \"g_\" + genre\n",
    "\n",
    "        if genre in values :\n",
    "            values[genre] = 1\n",
    "\n",
    "    return values\n",
    "\n",
    "def handle_saison(saison_str:str) -> dict :\n",
    "    saison = str(saison_str).split(\" \")\n",
    "    saison = saison[0]\n",
    "\n",
    "    values = dict(one_hot_params[\"season\"])\n",
    "\n",
    "    if saison in values :\n",
    "        values[saison] = 1\n",
    "\n",
    "    return values\n",
    "\n",
    "def handle_one_hot(col_name, valeur) -> dict:\n",
    "    values = dict(one_hot_params[col_name])\n",
    "\n",
    "    if valeur in values :\n",
    "        values[valeur] = 1\n",
    "\n",
    "    return values"
   ]
  },
  {
   "cell_type": "code",
   "execution_count": 90,
   "metadata": {},
   "outputs": [],
   "source": [
    "def parse_row(row) -> dict :\n",
    "    dict_data = {}\n",
    "    for col in anime_df.columns :\n",
    "        if col in one_hot_params :\n",
    "            if col == \"genres\" :\n",
    "                valeur = handle_genres(row[col])\n",
    "\n",
    "            elif col == \"season\" :\n",
    "                valeur = handle_saison(row[col])\n",
    "            \n",
    "            else :\n",
    "                valeur = handle_one_hot(col, row[col])\n",
    "\n",
    "            for key, value in valeur.items() :\n",
    "                dict_data[key] = value\n",
    "            \n",
    "            continue\n",
    "\n",
    "        dict_data[col] = row[col]\n",
    "\n",
    "    return dict_data"
   ]
  },
  {
   "cell_type": "code",
   "execution_count": 91,
   "metadata": {},
   "outputs": [],
   "source": [
    "import csv\n",
    "file_path = \"my_anime_data_cleaned/anime_data.csv\"\n",
    "with open(file_path, \"w\", encoding=\"utf-8\") as f :\n",
    "    writer = csv.DictWriter(f, fieldnames=new_colums, dialect=\"excel\")\n",
    "    writer.writeheader()\n",
    "    \n",
    "    for i, row in anime_df.iterrows() :\n",
    "        infos = parse_row(row)\n",
    "\n",
    "        writer.writerow(infos)"
   ]
  },
  {
   "cell_type": "code",
   "execution_count": 86,
   "metadata": {},
   "outputs": [
    {
     "data": {
      "text/html": [
       "<div>\n",
       "<style scoped>\n",
       "    .dataframe tbody tr th:only-of-type {\n",
       "        vertical-align: middle;\n",
       "    }\n",
       "\n",
       "    .dataframe tbody tr th {\n",
       "        vertical-align: top;\n",
       "    }\n",
       "\n",
       "    .dataframe thead th {\n",
       "        text-align: right;\n",
       "    }\n",
       "</style>\n",
       "<table border=\"1\" class=\"dataframe\">\n",
       "  <thead>\n",
       "    <tr style=\"text-align: right;\">\n",
       "      <th></th>\n",
       "      <th>anime_id</th>\n",
       "      <th>type</th>\n",
       "      <th>source_type</th>\n",
       "      <th>num_episodes</th>\n",
       "      <th>status</th>\n",
       "      <th>start_date</th>\n",
       "      <th>end_date</th>\n",
       "      <th>season</th>\n",
       "      <th>genres</th>\n",
       "      <th>score</th>\n",
       "      <th>...</th>\n",
       "      <th>score_rank</th>\n",
       "      <th>popularity_rank</th>\n",
       "      <th>members_count</th>\n",
       "      <th>favorites_count</th>\n",
       "      <th>watching_count</th>\n",
       "      <th>completed_count</th>\n",
       "      <th>on_hold_count</th>\n",
       "      <th>dropped_count</th>\n",
       "      <th>plan_to_watch_count</th>\n",
       "      <th>total_count</th>\n",
       "    </tr>\n",
       "  </thead>\n",
       "  <tbody>\n",
       "    <tr>\n",
       "      <th>12</th>\n",
       "      <td>47164</td>\n",
       "      <td>TV</td>\n",
       "      <td>Light novel</td>\n",
       "      <td>NaN</td>\n",
       "      <td>Not yet aired</td>\n",
       "      <td>2022-03-20 00:00:00</td>\n",
       "      <td>NaN</td>\n",
       "      <td>NaN</td>\n",
       "      <td>Action|Adventure|Comedy|Fantasy|Romance</td>\n",
       "      <td>NaN</td>\n",
       "      <td>...</td>\n",
       "      <td>NaN</td>\n",
       "      <td>1710</td>\n",
       "      <td>99913</td>\n",
       "      <td>383</td>\n",
       "      <td>0</td>\n",
       "      <td>0</td>\n",
       "      <td>0</td>\n",
       "      <td>0</td>\n",
       "      <td>99909</td>\n",
       "      <td>99909</td>\n",
       "    </tr>\n",
       "  </tbody>\n",
       "</table>\n",
       "<p>1 rows × 21 columns</p>\n",
       "</div>"
      ],
      "text/plain": [
       "    anime_id type  source_type  num_episodes         status  \\\n",
       "12     47164   TV  Light novel           NaN  Not yet aired   \n",
       "\n",
       "             start_date end_date season  \\\n",
       "12  2022-03-20 00:00:00      NaN    NaN   \n",
       "\n",
       "                                     genres  score  ...  score_rank  \\\n",
       "12  Action|Adventure|Comedy|Fantasy|Romance    NaN  ...         NaN   \n",
       "\n",
       "    popularity_rank  members_count  favorites_count  watching_count  \\\n",
       "12             1710          99913              383               0   \n",
       "\n",
       "    completed_count  on_hold_count  dropped_count  plan_to_watch_count  \\\n",
       "12                0              0              0                99909   \n",
       "\n",
       "    total_count  \n",
       "12        99909  \n",
       "\n",
       "[1 rows x 21 columns]"
      ]
     },
     "execution_count": 86,
     "metadata": {},
     "output_type": "execute_result"
    }
   ],
   "source": [
    "anime_df[anime_df[\"anime_id\"] == 47164]"
   ]
  },
  {
   "cell_type": "code",
   "execution_count": null,
   "metadata": {},
   "outputs": [],
   "source": []
  }
 ],
 "metadata": {
  "kernelspec": {
   "display_name": "tf",
   "language": "python",
   "name": "python3"
  },
  "language_info": {
   "codemirror_mode": {
    "name": "ipython",
    "version": 3
   },
   "file_extension": ".py",
   "mimetype": "text/x-python",
   "name": "python",
   "nbconvert_exporter": "python",
   "pygments_lexer": "ipython3",
   "version": "3.11.0"
  }
 },
 "nbformat": 4,
 "nbformat_minor": 2
}
